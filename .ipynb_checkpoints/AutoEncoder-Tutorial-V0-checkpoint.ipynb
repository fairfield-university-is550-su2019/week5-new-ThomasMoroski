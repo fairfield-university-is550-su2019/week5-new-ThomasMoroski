{
 "cells": [
  {
   "cell_type": "markdown",
   "metadata": {},
   "source": [
    "# Build Autoencoder in Keras"
   ]
  },
  {
   "cell_type": "markdown",
   "metadata": {},
   "source": [
    "In this tutorial, we will answer some common questions about autoencoders, and we will cover code examples of the following models:\n",
    "\n",
    "    - a simple autoencoder based on a fully-connected layer\n",
    "    - a sparse autoencoder (not currently working)\n",
    "    - a deep fully-connected autoencoder\n",
    "    - a deep convolutional autoencoder (also available in part 1)\n",
    "    \n",
    "    \n",
    "**Note: all code examples have been updated to the Keras 2.0 API on March 14, 2017. You will need Keras version 2.0.0 or higher to run them.**"
   ]
  },
  {
   "cell_type": "code",
   "execution_count": 11,
   "metadata": {
    "collapsed": false
   },
   "outputs": [
    {
     "name": "stdout",
     "output_type": "stream",
     "text": [
      "2.2.4\n"
     ]
    }
   ],
   "source": [
    "import keras\n",
    "print(keras.__version__)"
   ]
  },
  {
   "cell_type": "markdown",
   "metadata": {},
   "source": [
    "## Python Environment\n",
    "\n",
    "This tutorial assumes you have a Python SciPy environment installed. You can use either Python 2 or 3 with this tutorial.\n",
    "\n",
    "You must have Keras (2.0 or higher) installed with either the TensorFlow or Theano backend.\n",
    "\n",
    "The tutorial also assumes you have scikit-learn, Pandas, NumPy, and Matplotlib installed.\n",
    "\n",
    "If you need help with your environment, [this](https://machinelearningmastery.com/setup-python-environment-machine-learning-deep-learning-anaconda/) link is here to rescue."
   ]
  },
  {
   "cell_type": "markdown",
   "metadata": {},
   "source": [
    "## What are autoencoders?"
   ]
  },
  {
   "cell_type": "markdown",
   "metadata": {},
   "source": [
    "<img src= 'https://blog.keras.io/img/ae/autoencoder_schema.jpg'/>\n",
    "\n",
    "\"Autoencoding\" is a data compression algorithm where the compression and decompression functions are 1) data-specific, 2) lossy, and 3) learned automatically from examples rather than engineered by a human. Additionally, in almost all contexts where the term \"autoencoder\" is used, the compression and decompression functions are implemented with neural networks.\n",
    "\n",
    "    1) Autoencoders are data-specific, which means that they will only be able to compress data similar to what they have been trained on. This is different from, say, the MPEG-2 Audio Layer III (MP3) compression algorithm, which only holds assumptions about \"sound\" in general, but not about specific types of sounds. An autoencoder trained on pictures of faces would do a rather poor job of compressing pictures of trees, because the features it would learn would be face-specific.\n",
    "    \n",
    "    2) Autoencoders are lossy, which means that the decompressed outputs will be degraded compared to the original inputs (similar to MP3 or JPEG compression). This differs from lossless arithmetic compression.\n",
    "    \n",
    "    3) Autoencoders are learned automatically from data examples, which is a useful property: it means that it is easy to train specialized instances of the algorithm that will perform well on a specific type of input. It doesn't require any new engineering, just appropriate training data.\n",
    "\n",
    "To build an autoencoder, you need three things: \n",
    "    - an encoding function, \n",
    "    - a decoding function, and \n",
    "    - a distance function between the amount of information loss between the compressed representation of your data and the decompressed representation (i.e. a \"loss\" function). \n",
    "\n",
    "The encoder and decoder will be chosen to be parametric functions (typically neural networks), and to be differentiable with respect to the distance function, so the parameters of the encoding/decoding functions can be optimize to minimize the reconstruction loss, using Stochastic Gradient Descent. It's simple! And you don't even need to understand any of these words to start using autoencoders in practice.\n",
    "\n",
    "Note that even Autoencoding is a data compression algorithm, autoencoders are *not* good at data compression, so ..."
   ]
  },
  {
   "cell_type": "markdown",
   "metadata": {},
   "source": [
    "## What are autoencoders good for?"
   ]
  },
  {
   "cell_type": "markdown",
   "metadata": {},
   "source": [
    "Today two interesting practical applications of autoencoders are data denoising (which we feature later in this post), and dimensionality reduction for data visualization. With appropriate dimensionality and sparsity constraints, autoencoders can learn data projections that are more interesting than PCA or other basic techniques.\n",
    "\n",
    "For 2D visualization specifically, [t-SNE](https://en.wikipedia.org/wiki/T-distributed_stochastic_neighbor_embedding) (pronounced \"tee-snee\") is probably the best algorithm around, but it typically requires relatively low-dimensional data. So a good strategy for visualizing similarity relationships in high-dimensional data is to start by using an autoencoder to compress your data into a low-dimensional space (e.g. 32 dimensional), then use t-SNE for mapping the compressed data to a 2D plane. Note that a nice parametric implementation of t-SNE in Keras was developed by Kyle McDonald and is available on [Github](https://github.com/kylemcdonald/Parametric-t-SNE/blob/master/Parametric%20t-SNE%20(Keras).ipynb). Otherwise [scikit-learn](http://scikit-learn.org/stable/modules/generated/sklearn.manifold.TSNE.html) also has a simple and practical implementation.\n",
    "\n",
    "Autoencoders have long been thought to be a potential avenue for solving the problem of **unsupervised learning**, i.e. the learning of useful representations without the need for labels. Then again, autoencoders are not a **true** unsupervised learning technique (which would imply a different learning process altogether), they are a *self-supervised* technique, *a specific instance of supervised learning where the targets are generated from the input data*. In order to get self-supervised models to learn interesting features, you have to come up with an interesting synthetic target and loss function, and that's where problems arise: merely learning to reconstruct your input in minute detail might not be the right choice here."
   ]
  },
  {
   "cell_type": "markdown",
   "metadata": {},
   "source": [
    "## Let's build the simplest possible autoencoder\n",
    "\n",
    "We'll start simple, with a single fully-connected neural layer as encoder and as decoder:"
   ]
  },
  {
   "cell_type": "code",
   "execution_count": 12,
   "metadata": {
    "collapsed": false
   },
   "outputs": [],
   "source": [
    "from keras.layers import Input, Dense\n",
    "from keras.models import Model"
   ]
  },
  {
   "cell_type": "code",
   "execution_count": 13,
   "metadata": {
    "collapsed": true
   },
   "outputs": [],
   "source": [
    "# this is the size of our encoded representations\n",
    "encoding_dim = 32  # 32 floats -> compression of factor 24.5, assuming the input is 784 floats\n",
    "\n",
    "# this is our input placeholder\n",
    "input_img = Input(shape=(784,))\n",
    "\n",
    "# \"encoded\" is the encoded representation of the input\n",
    "encoded = Dense(encoding_dim, activation='relu')(input_img)\n",
    "\n",
    "# \"decoded\" is the lossy reconstruction of the input\n",
    "decoded = Dense(784, activation='sigmoid')(encoded)\n",
    "\n",
    "# this model maps an input to its reconstruction\n",
    "autoencoder = Model(input_img, decoded)"
   ]
  },
  {
   "cell_type": "markdown",
   "metadata": {},
   "source": [
    "Let's create a separate encoder and a decoder for illustration purpose."
   ]
  },
  {
   "cell_type": "code",
   "execution_count": 14,
   "metadata": {
    "collapsed": true
   },
   "outputs": [],
   "source": [
    "# this model maps an input to its encoded representation\n",
    "encoder = Model(input_img, encoded)\n",
    "\n",
    "# create a placeholder for an encoded (32-dimensional) input\n",
    "encoded_input = Input(shape=(encoding_dim,))\n",
    "\n",
    "# retrieve the last layer of the autoencoder model\n",
    "decoder_layer = autoencoder.layers[-1]\n",
    "\n",
    "# create the decoder model\n",
    "decoder = Model(encoded_input, decoder_layer(encoded_input))"
   ]
  },
  {
   "cell_type": "markdown",
   "metadata": {},
   "source": [
    "Now let's train our autoencoder to reconstruct MNIST digits.\n",
    "\n",
    "First, we'll configure our model to use a per-pixel **binary crossentropy loss**, and the **Adadelta** optimizer:"
   ]
  },
  {
   "cell_type": "code",
   "execution_count": 15,
   "metadata": {
    "collapsed": true
   },
   "outputs": [],
   "source": [
    "autoencoder.compile(optimizer='adadelta', loss='binary_crossentropy')"
   ]
  },
  {
   "cell_type": "code",
   "execution_count": 16,
   "metadata": {},
   "outputs": [
    {
     "name": "stdout",
     "output_type": "stream",
     "text": [
      "_________________________________________________________________\n",
      "Layer (type)                 Output Shape              Param #   \n",
      "=================================================================\n",
      "input_4 (InputLayer)         (None, 784)               0         \n",
      "_________________________________________________________________\n",
      "dense_5 (Dense)              (None, 32)                25120     \n",
      "_________________________________________________________________\n",
      "dense_6 (Dense)              (None, 784)               25872     \n",
      "=================================================================\n",
      "Total params: 50,992\n",
      "Trainable params: 50,992\n",
      "Non-trainable params: 0\n",
      "_________________________________________________________________\n"
     ]
    }
   ],
   "source": [
    "autoencoder.summary()"
   ]
  },
  {
   "cell_type": "markdown",
   "metadata": {},
   "source": [
    "#### For your information \n",
    "Cross-entropy loss, or *log loss*, measures the performance of a classification model whose output is a probability value between 0 and 1. The predictive results from most binary classification model are **not** 0/1, but a probability between [0,1].\n",
    "\n",
    "Cross-entropy loss increases as the predicted probability diverges from the actual label. So predicting a probability of .012 when the actual observation label is 1 would be bad and result in a high loss value. A **perfect** model would have a log loss of 0.\n",
    "\n",
    "In other words, a classifier is good when log loss is low (close to 0). In this case, log loss refer to in each pixel of the image, is it the same (1) or different (0) comparing between the original and decoded images?"
   ]
  },
  {
   "cell_type": "markdown",
   "metadata": {},
   "source": [
    "Let's prepare our input data. We're using MNIST digits, and we're discarding the labels (since we're only interested in encoding/decoding the input images)."
   ]
  },
  {
   "cell_type": "code",
   "execution_count": 17,
   "metadata": {
    "collapsed": false
   },
   "outputs": [],
   "source": [
    "from keras.datasets import mnist\n",
    "import numpy as np\n",
    "(x_train, _), (x_test, _) = mnist.load_data()"
   ]
  },
  {
   "cell_type": "markdown",
   "metadata": {},
   "source": [
    "We will normalize all values between 0 and 1 and we will flatten the 28x28 images into vectors of size 784. The value between 0 and 1 refers to the grayscale value of the pixel in the image."
   ]
  },
  {
   "cell_type": "code",
   "execution_count": 18,
   "metadata": {
    "collapsed": false
   },
   "outputs": [
    {
     "name": "stdout",
     "output_type": "stream",
     "text": [
      "(60000, 784)\n",
      "(10000, 784)\n"
     ]
    }
   ],
   "source": [
    "x_train = x_train.astype('float32') / 255.\n",
    "x_test = x_test.astype('float32') / 255.\n",
    "x_train = x_train.reshape((len(x_train), np.prod(x_train.shape[1:])))\n",
    "x_test = x_test.reshape((len(x_test), np.prod(x_test.shape[1:])))\n",
    "print(x_train.shape)\n",
    "print(x_test.shape)"
   ]
  },
  {
   "cell_type": "markdown",
   "metadata": {},
   "source": [
    "### YOUR TURN HERE\n",
    "\n",
    "Q: Use the **context of our classifcaition problem**, please explain what the two tuple above means."
   ]
  },
  {
   "cell_type": "markdown",
   "metadata": {},
   "source": [
    "A: (splits the set into training and testing after being normalized and converted to grayscale)"
   ]
  },
  {
   "cell_type": "markdown",
   "metadata": {},
   "source": [
    "Now let's train our autoencoder for 50 epochs:"
   ]
  },
  {
   "cell_type": "markdown",
   "metadata": {},
   "source": [
    "#### For your information\n",
    "\n",
    "In machine-learning parlance, an epoch is a **complete** pass through a given dataset. That is, by the end of one epoch, your neural network – be it a restricted Boltzmann machine, convolutional net or deep-belief network – will have been exposed to *every record to example within the dataset once*. Not to be confused with an iteration, which is simply **one** update of the neural net model’s parameters. **Many iterations can occur before an epoch is over**. Epoch and iteration are only synonymous if you update your parameters once for each pass through the whole dataset; if you update using mini-batches, they mean different things. "
   ]
  },
  {
   "cell_type": "code",
   "execution_count": 19,
   "metadata": {
    "collapsed": false,
    "scrolled": true
   },
   "outputs": [
    {
     "name": "stdout",
     "output_type": "stream",
     "text": [
      "WARNING:tensorflow:From /opt/tljh/user/lib/python3.6/site-packages/tensorflow/python/ops/math_ops.py:3066: to_int32 (from tensorflow.python.ops.math_ops) is deprecated and will be removed in a future version.\n",
      "Instructions for updating:\n",
      "Use tf.cast instead.\n",
      "Train on 60000 samples, validate on 10000 samples\n",
      "Epoch 1/50\n",
      "60000/60000 [==============================] - 3s 43us/step - loss: 0.3653 - val_loss: 0.2713\n",
      "Epoch 2/50\n",
      "60000/60000 [==============================] - 2s 38us/step - loss: 0.2639 - val_loss: 0.2527\n",
      "Epoch 3/50\n",
      "60000/60000 [==============================] - 2s 38us/step - loss: 0.2427 - val_loss: 0.2302\n",
      "Epoch 4/50\n",
      "60000/60000 [==============================] - 2s 38us/step - loss: 0.2224 - val_loss: 0.2125\n",
      "Epoch 5/50\n",
      "60000/60000 [==============================] - 2s 38us/step - loss: 0.2078 - val_loss: 0.2005\n",
      "Epoch 6/50\n",
      "60000/60000 [==============================] - 2s 38us/step - loss: 0.1973 - val_loss: 0.1911\n",
      "Epoch 7/50\n",
      "60000/60000 [==============================] - 2s 40us/step - loss: 0.1886 - val_loss: 0.1832\n",
      "Epoch 8/50\n",
      "60000/60000 [==============================] - 2s 39us/step - loss: 0.1813 - val_loss: 0.1766\n",
      "Epoch 9/50\n",
      "60000/60000 [==============================] - 2s 39us/step - loss: 0.1750 - val_loss: 0.1707\n",
      "Epoch 10/50\n",
      "60000/60000 [==============================] - 2s 39us/step - loss: 0.1697 - val_loss: 0.1656\n",
      "Epoch 11/50\n",
      "60000/60000 [==============================] - 2s 39us/step - loss: 0.1649 - val_loss: 0.1611\n",
      "Epoch 12/50\n",
      "60000/60000 [==============================] - 2s 39us/step - loss: 0.1607 - val_loss: 0.1572\n",
      "Epoch 13/50\n",
      "60000/60000 [==============================] - 2s 39us/step - loss: 0.1568 - val_loss: 0.1535\n",
      "Epoch 14/50\n",
      "60000/60000 [==============================] - 2s 39us/step - loss: 0.1533 - val_loss: 0.1501\n",
      "Epoch 15/50\n",
      "60000/60000 [==============================] - 2s 39us/step - loss: 0.1500 - val_loss: 0.1470\n",
      "Epoch 16/50\n",
      "60000/60000 [==============================] - 2s 39us/step - loss: 0.1470 - val_loss: 0.1440\n",
      "Epoch 17/50\n",
      "60000/60000 [==============================] - 2s 39us/step - loss: 0.1442 - val_loss: 0.1413\n",
      "Epoch 18/50\n",
      "60000/60000 [==============================] - 2s 38us/step - loss: 0.1415 - val_loss: 0.1387\n",
      "Epoch 19/50\n",
      "60000/60000 [==============================] - 2s 38us/step - loss: 0.1390 - val_loss: 0.1363\n",
      "Epoch 20/50\n",
      "60000/60000 [==============================] - 2s 38us/step - loss: 0.1366 - val_loss: 0.1339\n",
      "Epoch 21/50\n",
      "60000/60000 [==============================] - 2s 37us/step - loss: 0.1344 - val_loss: 0.1318\n",
      "Epoch 22/50\n",
      "60000/60000 [==============================] - 2s 38us/step - loss: 0.1322 - val_loss: 0.1295\n",
      "Epoch 23/50\n",
      "60000/60000 [==============================] - 2s 38us/step - loss: 0.1301 - val_loss: 0.1275\n",
      "Epoch 24/50\n",
      "60000/60000 [==============================] - 2s 38us/step - loss: 0.1282 - val_loss: 0.1256\n",
      "Epoch 25/50\n",
      "60000/60000 [==============================] - 2s 37us/step - loss: 0.1263 - val_loss: 0.1238\n",
      "Epoch 26/50\n",
      "60000/60000 [==============================] - 2s 38us/step - loss: 0.1245 - val_loss: 0.1220\n",
      "Epoch 27/50\n",
      "60000/60000 [==============================] - 2s 37us/step - loss: 0.1228 - val_loss: 0.1204\n",
      "Epoch 28/50\n",
      "60000/60000 [==============================] - 2s 37us/step - loss: 0.1213 - val_loss: 0.1188\n",
      "Epoch 29/50\n",
      "60000/60000 [==============================] - 2s 38us/step - loss: 0.1197 - val_loss: 0.1174\n",
      "Epoch 30/50\n",
      "60000/60000 [==============================] - 2s 38us/step - loss: 0.1183 - val_loss: 0.1160\n",
      "Epoch 31/50\n",
      "60000/60000 [==============================] - 2s 38us/step - loss: 0.1170 - val_loss: 0.1148\n",
      "Epoch 32/50\n",
      "60000/60000 [==============================] - 2s 37us/step - loss: 0.1158 - val_loss: 0.1136\n",
      "Epoch 33/50\n",
      "60000/60000 [==============================] - 2s 38us/step - loss: 0.1147 - val_loss: 0.1125\n",
      "Epoch 34/50\n",
      "60000/60000 [==============================] - 2s 38us/step - loss: 0.1137 - val_loss: 0.1115\n",
      "Epoch 35/50\n",
      "60000/60000 [==============================] - 2s 38us/step - loss: 0.1127 - val_loss: 0.1106\n",
      "Epoch 36/50\n",
      "60000/60000 [==============================] - 2s 38us/step - loss: 0.1119 - val_loss: 0.1097\n",
      "Epoch 37/50\n",
      "60000/60000 [==============================] - 2s 38us/step - loss: 0.1110 - val_loss: 0.1090\n",
      "Epoch 38/50\n",
      "60000/60000 [==============================] - 2s 37us/step - loss: 0.1103 - val_loss: 0.1082\n",
      "Epoch 39/50\n",
      "60000/60000 [==============================] - 2s 38us/step - loss: 0.1096 - val_loss: 0.1076\n",
      "Epoch 40/50\n",
      "60000/60000 [==============================] - 2s 37us/step - loss: 0.1090 - val_loss: 0.1070\n",
      "Epoch 41/50\n",
      "60000/60000 [==============================] - 2s 38us/step - loss: 0.1084 - val_loss: 0.1064\n",
      "Epoch 42/50\n",
      "60000/60000 [==============================] - 2s 38us/step - loss: 0.1078 - val_loss: 0.1059\n",
      "Epoch 43/50\n",
      "60000/60000 [==============================] - 2s 38us/step - loss: 0.1073 - val_loss: 0.1053\n",
      "Epoch 44/50\n",
      "60000/60000 [==============================] - 2s 38us/step - loss: 0.1068 - val_loss: 0.1049\n",
      "Epoch 45/50\n",
      "60000/60000 [==============================] - 2s 38us/step - loss: 0.1063 - val_loss: 0.1044\n",
      "Epoch 46/50\n",
      "60000/60000 [==============================] - 2s 38us/step - loss: 0.1059 - val_loss: 0.1040\n",
      "Epoch 47/50\n",
      "60000/60000 [==============================] - 2s 37us/step - loss: 0.1055 - val_loss: 0.1036\n",
      "Epoch 48/50\n",
      "60000/60000 [==============================] - 2s 37us/step - loss: 0.1051 - val_loss: 0.1033\n",
      "Epoch 49/50\n",
      "60000/60000 [==============================] - 2s 38us/step - loss: 0.1048 - val_loss: 0.1029\n",
      "Epoch 50/50\n",
      "60000/60000 [==============================] - 2s 38us/step - loss: 0.1044 - val_loss: 0.1026\n"
     ]
    },
    {
     "data": {
      "text/plain": [
       "<keras.callbacks.History at 0x7f98c965eeb8>"
      ]
     },
     "execution_count": 19,
     "metadata": {},
     "output_type": "execute_result"
    }
   ],
   "source": [
    "autoencoder.fit(x_train, x_train,\n",
    "                epochs=50,\n",
    "                batch_size=256,\n",
    "                shuffle=True,\n",
    "                validation_data=(x_test, x_test))"
   ]
  },
  {
   "cell_type": "markdown",
   "metadata": {},
   "source": [
    "### YOUR TURN HERE\n",
    "Q: Please observe the training history, and answer whether the autoencoder is improved after training? And why?"
   ]
  },
  {
   "cell_type": "markdown",
   "metadata": {},
   "source": [
    "A: (the validation loss has downward trend as the epochs approach 50. The autoencoder has improved after training)"
   ]
  },
  {
   "cell_type": "markdown",
   "metadata": {},
   "source": [
    "After 50 epochs, the autoencoder seems to reach a stable train/test loss value of about 0.11. We can try to visualize the reconstructed inputs and the encoded representations. We will use Matplotlib."
   ]
  },
  {
   "cell_type": "code",
   "execution_count": 20,
   "metadata": {
    "collapsed": true
   },
   "outputs": [],
   "source": [
    "# encode and decode some digits\n",
    "# note that we take them from the *test* set\n",
    "encoded_imgs = encoder.predict(x_test)\n",
    "decoded_imgs = decoder.predict(encoded_imgs)"
   ]
  },
  {
   "cell_type": "code",
   "execution_count": 21,
   "metadata": {
    "collapsed": false
   },
   "outputs": [
    {
     "data": {
      "image/png": "[encoded data removed]",
      "text/plain": [
       "<Figure size 1440x288 with 20 Axes>"
      ]
     },
     "metadata": {
      "needs_background": "light"
     },
     "output_type": "display_data"
    }
   ],
   "source": [
    "# use Matplotlib (don't ask)\n",
    "import matplotlib.pyplot as plt\n",
    "%matplotlib inline\n",
    "\n",
    "n = 10  # how many digits we will display\n",
    "plt.figure(figsize=(20, 4))\n",
    "for i in range(n):\n",
    "    # display original\n",
    "    ax = plt.subplot(2, n, i + 1)\n",
    "    plt.imshow(x_test[i].reshape(28, 28))\n",
    "    plt.gray()\n",
    "    ax.get_xaxis().set_visible(False)\n",
    "    ax.get_yaxis().set_visible(False)\n",
    "\n",
    "    # display reconstruction\n",
    "    ax = plt.subplot(2, n, i + 1 + n)\n",
    "    plt.imshow(decoded_imgs[i].reshape(28, 28))\n",
    "    plt.gray()\n",
    "    ax.get_xaxis().set_visible(False)\n",
    "    ax.get_yaxis().set_visible(False)\n",
    "plt.show()"
   ]
  },
  {
   "cell_type": "markdown",
   "metadata": {},
   "source": [
    "Here's what we get. The top row is the original digits, and the bottom row is the reconstructed digits. "
   ]
  },
  {
   "cell_type": "markdown",
   "metadata": {},
   "source": [
    "### YOUR TURN HERE\n",
    "Q: please discuss how the reconstructed images comparing to the original images."
   ]
  },
  {
   "cell_type": "markdown",
   "metadata": {},
   "source": [
    "A: (for the most part the numbers are identical, they capture the major high level feautures. The only can is that the decoded numbers are not as sharp, one more observation is the noise is taken into account. For example the final 9, the drop down is eliminated as it is considered a non important feature)"
   ]
  },
  {
   "cell_type": "markdown",
   "metadata": {},
   "source": [
    "### Hands-on: how to improve the model?\n",
    "The quality of the autoencoder we trained, or of any basic autoencoder, is depending on two parameters:\n",
    "    - Encoding dimension (in code block [3])\n",
    "    - Number of Epochs (in code block [8])\n",
    "Try changing these two parameters, and rerun the code (do not forget to **restart the kernel**), to see how to optimize the model."
   ]
  },
  {
   "cell_type": "markdown",
   "metadata": {},
   "source": [
    "## Deep autoencoder"
   ]
  },
  {
   "cell_type": "markdown",
   "metadata": {},
   "source": [
    "To further improve the performance of our autoencoder, we do not have to limit ourselves to a single layer as encoder or decoder, we could instead use a stack of layers, such as:\n",
    "\n",
    "**NOTE that you have to pair an encoder with a decoder.**"
   ]
  },
  {
   "cell_type": "code",
   "execution_count": 22,
   "metadata": {
    "collapsed": true
   },
   "outputs": [],
   "source": [
    "input_img = Input(shape=(784,))\n",
    "encoded = Dense(128, activation='relu')(input_img)\n",
    "encoded = Dense(64, activation='relu')(encoded)\n",
    "encoded = Dense(32, activation='relu')(encoded)\n",
    "\n",
    "decoded = Dense(64, activation='relu')(encoded)\n",
    "decoded = Dense(128, activation='relu')(decoded)\n",
    "decoded = Dense(784, activation='sigmoid')(decoded)"
   ]
  },
  {
   "cell_type": "code",
   "execution_count": 23,
   "metadata": {
    "collapsed": false,
    "scrolled": true
   },
   "outputs": [
    {
     "name": "stdout",
     "output_type": "stream",
     "text": [
      "Train on 60000 samples, validate on 10000 samples\n",
      "Epoch 1/100\n",
      "60000/60000 [==============================] - 4s 67us/step - loss: 0.3396 - val_loss: 0.2629\n",
      "Epoch 2/100\n",
      "60000/60000 [==============================] - 4s 59us/step - loss: 0.2529 - val_loss: 0.2434\n",
      "Epoch 3/100\n",
      "60000/60000 [==============================] - 4s 59us/step - loss: 0.2383 - val_loss: 0.2294\n",
      "Epoch 4/100\n",
      "60000/60000 [==============================] - 4s 59us/step - loss: 0.2189 - val_loss: 0.2106\n",
      "Epoch 5/100\n",
      "60000/60000 [==============================] - 4s 59us/step - loss: 0.2032 - val_loss: 0.1982\n",
      "Epoch 6/100\n",
      "60000/60000 [==============================] - 4s 59us/step - loss: 0.1944 - val_loss: 0.1900\n",
      "Epoch 7/100\n",
      "60000/60000 [==============================] - 4s 59us/step - loss: 0.1861 - val_loss: 0.1821\n",
      "Epoch 8/100\n",
      "60000/60000 [==============================] - 4s 59us/step - loss: 0.1783 - val_loss: 0.1777\n",
      "Epoch 9/100\n",
      "60000/60000 [==============================] - 4s 59us/step - loss: 0.1713 - val_loss: 0.1667\n",
      "Epoch 10/100\n",
      "60000/60000 [==============================] - 4s 59us/step - loss: 0.1654 - val_loss: 0.1615\n",
      "Epoch 11/100\n",
      "60000/60000 [==============================] - 4s 59us/step - loss: 0.1612 - val_loss: 0.1567\n",
      "Epoch 12/100\n",
      "60000/60000 [==============================] - 4s 59us/step - loss: 0.1577 - val_loss: 0.1540\n",
      "Epoch 13/100\n",
      "60000/60000 [==============================] - 4s 60us/step - loss: 0.1546 - val_loss: 0.1527\n",
      "Epoch 14/100\n",
      "60000/60000 [==============================] - 4s 59us/step - loss: 0.1518 - val_loss: 0.1486\n",
      "Epoch 15/100\n",
      "60000/60000 [==============================] - 4s 60us/step - loss: 0.1489 - val_loss: 0.1469\n",
      "Epoch 16/100\n",
      "60000/60000 [==============================] - 4s 61us/step - loss: 0.1461 - val_loss: 0.1432\n",
      "Epoch 17/100\n",
      "60000/60000 [==============================] - 4s 62us/step - loss: 0.1436 - val_loss: 0.1416\n",
      "Epoch 18/100\n",
      "60000/60000 [==============================] - 4s 62us/step - loss: 0.1414 - val_loss: 0.1390\n",
      "Epoch 19/100\n",
      "60000/60000 [==============================] - 4s 62us/step - loss: 0.1395 - val_loss: 0.1376\n",
      "Epoch 20/100\n",
      "60000/60000 [==============================] - 4s 61us/step - loss: 0.1376 - val_loss: 0.1357\n",
      "Epoch 21/100\n",
      "60000/60000 [==============================] - 4s 61us/step - loss: 0.1359 - val_loss: 0.1335\n",
      "Epoch 22/100\n",
      "60000/60000 [==============================] - 4s 61us/step - loss: 0.1345 - val_loss: 0.1327\n",
      "Epoch 23/100\n",
      "60000/60000 [==============================] - 4s 59us/step - loss: 0.1332 - val_loss: 0.1315\n",
      "Epoch 24/100\n",
      "60000/60000 [==============================] - 4s 59us/step - loss: 0.1320 - val_loss: 0.1313\n",
      "Epoch 25/100\n",
      "60000/60000 [==============================] - 4s 60us/step - loss: 0.1308 - val_loss: 0.1277\n",
      "Epoch 26/100\n",
      "60000/60000 [==============================] - 4s 59us/step - loss: 0.1295 - val_loss: 0.1277\n",
      "Epoch 27/100\n",
      "60000/60000 [==============================] - 4s 60us/step - loss: 0.1285 - val_loss: 0.1276\n",
      "Epoch 28/100\n",
      "60000/60000 [==============================] - 4s 59us/step - loss: 0.1272 - val_loss: 0.1242\n",
      "Epoch 29/100\n",
      "60000/60000 [==============================] - 4s 60us/step - loss: 0.1261 - val_loss: 0.1263\n",
      "Epoch 30/100\n",
      "60000/60000 [==============================] - 4s 59us/step - loss: 0.1252 - val_loss: 0.1228\n",
      "Epoch 31/100\n",
      "60000/60000 [==============================] - 4s 59us/step - loss: 0.1244 - val_loss: 0.1227\n",
      "Epoch 32/100\n",
      "60000/60000 [==============================] - 4s 59us/step - loss: 0.1234 - val_loss: 0.1215\n",
      "Epoch 33/100\n",
      "60000/60000 [==============================] - 4s 59us/step - loss: 0.1227 - val_loss: 0.1206\n",
      "Epoch 34/100\n",
      "60000/60000 [==============================] - 4s 59us/step - loss: 0.1220 - val_loss: 0.1208\n",
      "Epoch 35/100\n",
      "60000/60000 [==============================] - 4s 59us/step - loss: 0.1212 - val_loss: 0.1204\n",
      "Epoch 36/100\n",
      "60000/60000 [==============================] - 4s 59us/step - loss: 0.1207 - val_loss: 0.1187\n",
      "Epoch 37/100\n",
      "60000/60000 [==============================] - 4s 61us/step - loss: 0.1199 - val_loss: 0.1174\n",
      "Epoch 38/100\n",
      "60000/60000 [==============================] - 6s 94us/step - loss: 0.1191 - val_loss: 0.1184\n",
      "Epoch 39/100\n",
      "60000/60000 [==============================] - 9s 147us/step - loss: 0.1187 - val_loss: 0.1160\n",
      "Epoch 40/100\n",
      "60000/60000 [==============================] - 9s 151us/step - loss: 0.1180 - val_loss: 0.1157\n",
      "Epoch 41/100\n",
      "60000/60000 [==============================] - 9s 151us/step - loss: 0.1173 - val_loss: 0.1162\n",
      "Epoch 42/100\n",
      "60000/60000 [==============================] - 9s 147us/step - loss: 0.1166 - val_loss: 0.1158\n",
      "Epoch 43/100\n",
      "60000/60000 [==============================] - 9s 149us/step - loss: 0.1159 - val_loss: 0.1150\n",
      "Epoch 44/100\n",
      "60000/60000 [==============================] - 9s 150us/step - loss: 0.1154 - val_loss: 0.1133\n",
      "Epoch 45/100\n",
      "60000/60000 [==============================] - 9s 149us/step - loss: 0.1148 - val_loss: 0.1137\n",
      "Epoch 46/100\n",
      "60000/60000 [==============================] - 9s 152us/step - loss: 0.1141 - val_loss: 0.1141\n",
      "Epoch 47/100\n",
      "60000/60000 [==============================] - 9s 153us/step - loss: 0.1138 - val_loss: 0.1106\n",
      "Epoch 48/100\n",
      "60000/60000 [==============================] - 9s 154us/step - loss: 0.1133 - val_loss: 0.1114\n",
      "Epoch 49/100\n",
      "60000/60000 [==============================] - 9s 152us/step - loss: 0.1129 - val_loss: 0.1126\n",
      "Epoch 50/100\n",
      "60000/60000 [==============================] - 9s 149us/step - loss: 0.1125 - val_loss: 0.1091\n",
      "Epoch 51/100\n",
      "60000/60000 [==============================] - 9s 153us/step - loss: 0.1121 - val_loss: 0.1098\n",
      "Epoch 52/100\n",
      "60000/60000 [==============================] - 9s 151us/step - loss: 0.1117 - val_loss: 0.1104\n",
      "Epoch 53/100\n",
      "60000/60000 [==============================] - 9s 149us/step - loss: 0.1113 - val_loss: 0.1084\n",
      "Epoch 54/100\n",
      "60000/60000 [==============================] - 9s 149us/step - loss: 0.1110 - val_loss: 0.1104\n",
      "Epoch 55/100\n",
      "60000/60000 [==============================] - 9s 150us/step - loss: 0.1108 - val_loss: 0.1101\n",
      "Epoch 56/100\n",
      "60000/60000 [==============================] - 9s 148us/step - loss: 0.1104 - val_loss: 0.1095\n",
      "Epoch 57/100\n",
      "60000/60000 [==============================] - 9s 152us/step - loss: 0.1100 - val_loss: 0.1078\n",
      "Epoch 58/100\n",
      "60000/60000 [==============================] - 9s 148us/step - loss: 0.1097 - val_loss: 0.1095\n",
      "Epoch 59/100\n",
      "60000/60000 [==============================] - 9s 149us/step - loss: 0.1094 - val_loss: 0.1070\n",
      "Epoch 60/100\n",
      "60000/60000 [==============================] - 9s 150us/step - loss: 0.1090 - val_loss: 0.1094\n",
      "Epoch 61/100\n",
      "60000/60000 [==============================] - 9s 149us/step - loss: 0.1087 - val_loss: 0.1064\n",
      "Epoch 62/100\n",
      "60000/60000 [==============================] - 9s 152us/step - loss: 0.1084 - val_loss: 0.1056\n",
      "Epoch 63/100\n",
      "60000/60000 [==============================] - 9s 153us/step - loss: 0.1081 - val_loss: 0.1058\n",
      "Epoch 64/100\n",
      "60000/60000 [==============================] - 9s 150us/step - loss: 0.1077 - val_loss: 0.1055\n",
      "Epoch 65/100\n",
      "60000/60000 [==============================] - 9s 148us/step - loss: 0.1074 - val_loss: 0.1066\n",
      "Epoch 66/100\n",
      "60000/60000 [==============================] - 9s 150us/step - loss: 0.1071 - val_loss: 0.1063\n",
      "Epoch 67/100\n",
      "60000/60000 [==============================] - 9s 149us/step - loss: 0.1070 - val_loss: 0.1048\n",
      "Epoch 68/100\n",
      "60000/60000 [==============================] - 9s 152us/step - loss: 0.1066 - val_loss: 0.1061\n",
      "Epoch 69/100\n",
      "60000/60000 [==============================] - 9s 149us/step - loss: 0.1064 - val_loss: 0.1055\n",
      "Epoch 70/100\n",
      "60000/60000 [==============================] - 9s 150us/step - loss: 0.1062 - val_loss: 0.1050\n",
      "Epoch 71/100\n",
      "60000/60000 [==============================] - 9s 150us/step - loss: 0.1059 - val_loss: 0.1038\n",
      "Epoch 72/100\n",
      "60000/60000 [==============================] - 9s 149us/step - loss: 0.1056 - val_loss: 0.1056\n",
      "Epoch 73/100\n",
      "60000/60000 [==============================] - 9s 152us/step - loss: 0.1055 - val_loss: 0.1036\n",
      "Epoch 74/100\n",
      "60000/60000 [==============================] - 9s 150us/step - loss: 0.1051 - val_loss: 0.1060\n",
      "Epoch 75/100\n",
      "60000/60000 [==============================] - 9s 150us/step - loss: 0.1049 - val_loss: 0.1037\n",
      "Epoch 76/100\n",
      "60000/60000 [==============================] - 9s 148us/step - loss: 0.1047 - val_loss: 0.1057\n",
      "Epoch 77/100\n",
      "60000/60000 [==============================] - 9s 151us/step - loss: 0.1044 - val_loss: 0.1036\n",
      "Epoch 78/100\n",
      "60000/60000 [==============================] - 9s 152us/step - loss: 0.1044 - val_loss: 0.1028\n",
      "Epoch 79/100\n",
      "60000/60000 [==============================] - 9s 155us/step - loss: 0.1040 - val_loss: 0.1040\n",
      "Epoch 80/100\n",
      "60000/60000 [==============================] - 9s 152us/step - loss: 0.1040 - val_loss: 0.1028\n",
      "Epoch 81/100\n",
      "60000/60000 [==============================] - 9s 152us/step - loss: 0.1037 - val_loss: 0.1036\n",
      "Epoch 82/100\n",
      "60000/60000 [==============================] - 9s 147us/step - loss: 0.1034 - val_loss: 0.1054\n",
      "Epoch 83/100\n",
      "60000/60000 [==============================] - 9s 150us/step - loss: 0.1033 - val_loss: 0.1022\n",
      "Epoch 84/100\n",
      "60000/60000 [==============================] - 9s 149us/step - loss: 0.1031 - val_loss: 0.1050\n",
      "Epoch 85/100\n",
      "60000/60000 [==============================] - 9s 151us/step - loss: 0.1029 - val_loss: 0.1016\n",
      "Epoch 86/100\n",
      "60000/60000 [==============================] - 9s 151us/step - loss: 0.1028 - val_loss: 0.1015\n",
      "Epoch 87/100\n",
      "60000/60000 [==============================] - 9s 149us/step - loss: 0.1027 - val_loss: 0.1008\n",
      "Epoch 88/100\n",
      "60000/60000 [==============================] - 9s 150us/step - loss: 0.1024 - val_loss: 0.1030\n",
      "Epoch 89/100\n",
      "60000/60000 [==============================] - 9s 149us/step - loss: 0.1023 - val_loss: 0.1012\n",
      "Epoch 90/100\n",
      "60000/60000 [==============================] - 9s 148us/step - loss: 0.1021 - val_loss: 0.1008\n",
      "Epoch 91/100\n",
      "60000/60000 [==============================] - 9s 149us/step - loss: 0.1021 - val_loss: 0.1010\n",
      "Epoch 92/100\n",
      "60000/60000 [==============================] - 9s 151us/step - loss: 0.1017 - val_loss: 0.1014\n",
      "Epoch 93/100\n",
      "60000/60000 [==============================] - 9s 149us/step - loss: 0.1016 - val_loss: 0.1002\n",
      "Epoch 94/100\n",
      "60000/60000 [==============================] - 9s 155us/step - loss: 0.1015 - val_loss: 0.1000\n",
      "Epoch 95/100\n",
      "60000/60000 [==============================] - 9s 153us/step - loss: 0.1012 - val_loss: 0.1010\n",
      "Epoch 96/100\n",
      "60000/60000 [==============================] - 9s 155us/step - loss: 0.1013 - val_loss: 0.1000\n",
      "Epoch 97/100\n",
      "60000/60000 [==============================] - 9s 151us/step - loss: 0.1010 - val_loss: 0.1008\n",
      "Epoch 98/100\n",
      "60000/60000 [==============================] - 9s 149us/step - loss: 0.1009 - val_loss: 0.1009\n",
      "Epoch 99/100\n",
      "60000/60000 [==============================] - 9s 148us/step - loss: 0.1007 - val_loss: 0.1024\n",
      "Epoch 100/100\n",
      "60000/60000 [==============================] - 9s 148us/step - loss: 0.1005 - val_loss: 0.1005\n"
     ]
    },
    {
     "data": {
      "text/plain": [
       "<keras.callbacks.History at 0x7f98c82c35f8>"
      ]
     },
     "execution_count": 23,
     "metadata": {},
     "output_type": "execute_result"
    }
   ],
   "source": [
    "autoencoder = Model(input_img, decoded)\n",
    "autoencoder.compile(optimizer='adadelta', loss='binary_crossentropy')\n",
    "\n",
    "autoencoder.fit(x_train, x_train,\n",
    "                epochs=100,\n",
    "                batch_size=256,\n",
    "                shuffle=True,\n",
    "                validation_data=(x_test, x_test))"
   ]
  },
  {
   "cell_type": "markdown",
   "metadata": {},
   "source": [
    "You can observe from the training history, in order to learn the weights in all the neurons of the encoding/decoding layes, we need more epochs (100 vs. 50) to get a slightly better loss. The models ends with a train loss of 0.1017 and test loss of 0.1011. "
   ]
  },
  {
   "cell_type": "code",
   "execution_count": 24,
   "metadata": {
    "collapsed": false
   },
   "outputs": [
    {
     "data": {
      "image/png": "[encoded data removed]",
      "text/plain": [
       "<Figure size 1440x288 with 20 Axes>"
      ]
     },
     "metadata": {
      "needs_background": "light"
     },
     "output_type": "display_data"
    }
   ],
   "source": [
    "# encode and decode some digits\n",
    "# note that we take them from the *test* set\n",
    "encoded_imgs = encoder.predict(x_test)\n",
    "decoded_imgs = decoder.predict(encoded_imgs)\n",
    "\n",
    "n = 10  # how many digits we will display\n",
    "plt.figure(figsize=(20, 4))\n",
    "for i in range(n):\n",
    "    # display original\n",
    "    ax = plt.subplot(2, n, i + 1)\n",
    "    plt.imshow(x_test[i].reshape(28, 28))\n",
    "    plt.gray()\n",
    "    ax.get_xaxis().set_visible(False)\n",
    "    ax.get_yaxis().set_visible(False)\n",
    "\n",
    "    # display reconstruction\n",
    "    ax = plt.subplot(2, n, i + 1 + n)\n",
    "    plt.imshow(decoded_imgs[i].reshape(28, 28))\n",
    "    plt.gray()\n",
    "    ax.get_xaxis().set_visible(False)\n",
    "    ax.get_yaxis().set_visible(False)\n",
    "plt.show()"
   ]
  },
  {
   "cell_type": "markdown",
   "metadata": {},
   "source": [
    "#### YOUR TURN HERE\n",
    "Q: Comparing this to the results in the previous example, is it better?"
   ]
  },
  {
   "cell_type": "markdown",
   "metadata": {},
   "source": [
    "A: (the new results are not better the model is becoming somewhat overfitted as the weights are not being updated when they should be updated)"
   ]
  },
  {
   "cell_type": "markdown",
   "metadata": {},
   "source": [
    "## Convolutional autoencoder [Demo-only]\n",
    "\n",
    "Since our inputs are images, it makes sense to use [convolutional neural networks (convnets)](https://www.safaribooksonline.com/library/view/deep-learning/9781491924570/ch04.html) as encoders and decoders. In practical settings, autoencoders applied to images are always convolutional autoencoders -- they simply perform much better.\n",
    "\n",
    "Let's implement one. The encoder will consist in a stack of Conv2D and MaxPooling2D layers (max pooling being used for spatial down-sampling), while the decoder will consist in a stack of Conv2D and UpSampling2D layers."
   ]
  },
  {
   "cell_type": "code",
   "execution_count": null,
   "metadata": {
    "collapsed": true
   },
   "outputs": [],
   "source": [
    "from keras.layers import Input, Dense, Conv2D, MaxPooling2D, UpSampling2D\n",
    "from keras.models import Model\n",
    "from keras import backend as K\n",
    "\n",
    "input_img = Input(shape=(28, 28, 1))  # adapt this if using `channels_first` image data format\n",
    "\n",
    "x = Conv2D(16, (3, 3), activation='relu', padding='same')(input_img)\n",
    "x = MaxPooling2D((2, 2), padding='same')(x)\n",
    "x = Conv2D(8, (3, 3), activation='relu', padding='same')(x)\n",
    "x = MaxPooling2D((2, 2), padding='same')(x)\n",
    "x = Conv2D(8, (3, 3), activation='relu', padding='same')(x)\n",
    "encoded = MaxPooling2D((2, 2), padding='same')(x)\n",
    "\n",
    "# at this point the representation is (4, 4, 8) i.e. 128-dimensional\n",
    "\n",
    "x = Conv2D(8, (3, 3), activation='relu', padding='same')(encoded)\n",
    "x = UpSampling2D((2, 2))(x)\n",
    "x = Conv2D(8, (3, 3), activation='relu', padding='same')(x)\n",
    "x = UpSampling2D((2, 2))(x)\n",
    "x = Conv2D(16, (3, 3), activation='relu')(x)\n",
    "x = UpSampling2D((2, 2))(x)\n",
    "decoded = Conv2D(1, (3, 3), activation='sigmoid', padding='same')(x)\n",
    "\n",
    "autoencoder = Model(input_img, decoded)\n",
    "autoencoder.compile(optimizer='adadelta', loss='binary_crossentropy')"
   ]
  },
  {
   "cell_type": "code",
   "execution_count": null,
   "metadata": {
    "collapsed": false
   },
   "outputs": [],
   "source": [
    "autoencoder.summary()"
   ]
  },
  {
   "cell_type": "markdown",
   "metadata": {},
   "source": [
    "To train it, we will use the original MNIST digits with shape (samples, 3, 28, 28), and we will just normalize pixel values between 0 and 1."
   ]
  },
  {
   "cell_type": "code",
   "execution_count": null,
   "metadata": {
    "collapsed": true
   },
   "outputs": [],
   "source": [
    "x_train = x_train.astype('float32') / 255.\n",
    "x_test = x_test.astype('float32') / 255.\n",
    "x_train = np.reshape(x_train, (len(x_train), 28, 28, 1))  # adapt this if using `channels_first` image data format\n",
    "x_test = np.reshape(x_test, (len(x_test), 28, 28, 1))  # adapt this if using `channels_first` image data format"
   ]
  },
  {
   "cell_type": "code",
   "execution_count": null,
   "metadata": {
    "collapsed": true
   },
   "outputs": [],
   "source": [
    "from keras.callbacks import EarlyStopping\n",
    "# simple early stopping\n",
    "es = EarlyStopping(monitor='val_loss', mode='min', verbose=1)"
   ]
  },
  {
   "cell_type": "code",
   "execution_count": null,
   "metadata": {
    "collapsed": false,
    "scrolled": true
   },
   "outputs": [],
   "source": [
    "autoencoder.fit(x_train, x_train,\n",
    "                epochs=50,\n",
    "                batch_size=128,\n",
    "                shuffle=True,\n",
    "                validation_data=(x_test, x_test),\n",
    "                callbacks=[es])"
   ]
  },
  {
   "cell_type": "code",
   "execution_count": null,
   "metadata": {
    "collapsed": false
   },
   "outputs": [],
   "source": [
    "# utility function for showing images\n",
    "def show_imgs(x_test, decoded_imgs=None, n=10):\n",
    "    plt.figure(figsize=(20, 4))\n",
    "    for i in range(n):\n",
    "        ax = plt.subplot(2, n, i+1)\n",
    "        plt.imshow(x_test[i].reshape(28,28))\n",
    "        plt.gray()\n",
    "        ax.get_xaxis().set_visible(False)\n",
    "        ax.get_yaxis().set_visible(False)\n",
    "\n",
    "        if decoded_imgs is not None:\n",
    "            ax = plt.subplot(2, n, i+ 1 +n)\n",
    "            plt.imshow(decoded_imgs[i].reshape(28,28))\n",
    "            plt.gray()\n",
    "            ax.get_xaxis().set_visible(False)\n",
    "            ax.get_yaxis().set_visible(False)\n",
    "    plt.show()"
   ]
  },
  {
   "cell_type": "code",
   "execution_count": null,
   "metadata": {
    "collapsed": false
   },
   "outputs": [],
   "source": [
    "decoded_imgs = autoencoder.predict(x_test)\n",
    "\n",
    "print(\"input (upper row)\\ndecoded (bottom row)\")\n",
    "show_imgs(x_test, decoded_imgs)"
   ]
  },
  {
   "cell_type": "code",
   "execution_count": null,
   "metadata": {
    "collapsed": true
   },
   "outputs": [],
   "source": []
  }
 ],
 "metadata": {
  "kernelspec": {
   "display_name": "Python 3",
   "language": "python",
   "name": "python3"
  },
  "language_info": {
   "codemirror_mode": {
    "name": "ipython",
    "version": 3
   },
   "file_extension": ".py",
   "mimetype": "text/x-python",
   "name": "python",
   "nbconvert_exporter": "python",
   "pygments_lexer": "ipython3",
   "version": "3.6.7"
  }
 },
 "nbformat": 4,
 "nbformat_minor": 2
}
